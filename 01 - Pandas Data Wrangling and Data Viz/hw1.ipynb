{
 "cells": [
  {
   "cell_type": "markdown",
   "metadata": {},
   "source": [
    "# Homework 1 (HW1)\n",
    "\n",
    "---\n",
    "By the end of this homework we expect you to be able to:\n",
    "1. Load data from different formats using [pandas](https://pandas.pydata.org/);\n",
    "2. Navigate the documentation of Python packages by yourself;\n",
    "3. Filter and tidy up noisy data sets;\n",
    "4. Aggregate your data in different (and hopefully helpful) ways; \n",
    "5. Create meaningful visualizations to analyze the data;\n",
    "6. Critically think and write about data;\n",
    "---\n",
    "\n",
    "## Important Dates\n",
    "\n",
    "- Homework release: Fri 8 Oct 2021\n",
    "- **Homework due**: Fri 22 Oct 2021, 23:59\n",
    "- Grade release: Fri 29 Oct 2021\n",
    "\n",
    "---\n",
    "\n",
    "##  Some rules\n",
    "\n",
    "1. You are allowed to use any built-in Python library that comes with Anaconda. If you want to use an external library, \n",
    "you may do so, but must justify your choice.\n",
    "2. Make sure you use the `data` folder provided in the repository in read-only mode. (Or alternatively, be sure you \n",
    "don’t change any of the files.)\n",
    "3. Be sure to provide a textual description of your thought process, the assumptions you made, the solution you \n",
    "implemented, and explanations for your answers. A notebook that only has code cells will not suffice.\n",
    "4. For questions containing the **/Discuss:/** prefix, answer not with code, but with a textual explanation\n",
    " (**in markdown**).\n",
    "5. Back up any hypotheses and claims with data, since this is an important aspect of the course.\n",
    "6. Please write all your comments in English, and use meaningful variable names in your code. Your repo should have a \n",
    "single notebook (plus the required data files) in the *master/main* branch. If there are multiple notebooks present, \n",
    "we will **not grade** anything.\n",
    "7. We will **not run your notebook for you**! Rather, we will grade it as is, which means that only the results \n",
    "contained in your evaluated code cells will be considered, and we will not see the results in unevaluated code cells. \n",
    "Thus, be sure to hand in a **fully-run and evaluated notebook**. In order to check whether everything looks as intended,\n",
    " you can check the rendered notebook on the GitHub website once you have pushed your solution there.\n",
    "8. In continuation to the previous point, interactive plots, such as those generated using `plotly`, should be \n",
    "**strictly avoided**!\n",
    "9. Make sure to print results or dataframes that confirm you have properly addressed the task.\n",
    "\n",
    "---\n",
    "\n",
    "## Context\n",
    "\n",
    "In this project, we are going to analyze data from an experiment about *honesty*. \n",
    "Oftentimes, we are asked to confirm our honest intentions by signing **at the end** of a document. \n",
    "For example, in tax returns or insurance policy forms, we are often asked to sign our names under a text that reads \n",
    "something like \"I hereby certify that the above statements are true and correct to the best of my knowledge.\"\n",
    "\n",
    "However, when individuals sign **after** lying in the form, they may not feel the need to correct the falsehoods they \n",
    "have reported. In that context, it could be that signing at **the beginning** rather than at the end of the document \n",
    "would decrease dishonesty, as those who are filling the form would be aware of the ethical requirements *before* they \n",
    "provide the information in the form.\n",
    "\n",
    "This intuition has led researchers to partner up with a motorcycle insurance company to run a randomized experiment. \n",
    "In this insurance company (as well as in many others), customers had to report the exact *odometer kilometrage*¹ in \n",
    "order for the company to adjust the insurance premiums. Note that motorcycles with lower kilometrage are less likely to \n",
    "have issues, and thus will result in a lower *insurance premium*². Therefore, customers have an incentive to lie, \n",
    "reporting a kilometrage lower than the real value, in order to save money.\n",
    "\n",
    "In the experiment, two different forms were created: one where the signing was done at the end, and another where the \n",
    "signing was done at the beginning. The insurance company then randomized these forms (i.e., each customer received\n",
    " exactly one form, each with probability 50%) and sent back the data that customers had provided. Some noteworthy \n",
    " details on the experiment are that:\n",
    "\n",
    "- All customers involved in the experiment already had a contract with the company and were simply renewing it. \n",
    "In the data that the company provided, they also report the odometer kilometrage for their previous contract.\n",
    "Each policy, therefore, contains two contracts: the \"updated\" contract —where the experiment was conducted— and \n",
    "the \"baseline\" contract, which was the previous contract customers had with the company.\n",
    "- A single insurance policy can insure up to 4 distinct motorcycles.\n",
    "\n",
    "In this assignment, you will take the role of the researcher and work analyzing this data!\n",
    "\n",
    "*Glossary:*\n",
    "1. **odometer kilometrage:** the total distance the motorcycle has traveled.\n",
    "2. **insurance premiums:** the amount of money one pays for an insurance policy.\n",
    "\n",
    "---\n",
    "\n",
    "## The data\n",
    "\n",
    "The company provided you with a compressed `.tsv` file containing one row per policy. \n",
    "The `.tsv` has the following fields:\n",
    "\n",
    "- `condition`: either `Sign Top` or `Sign Bottom`, depending on which form was sent.\n",
    "- `id`: unique identifier for each insurance policy.\n",
    "- `motorcycle_count`: number of motorcycles covered by the insurance policy.\n",
    "- `baseline_motorcycle[1-4]`: odometer kilometrage *reported by the customer* in the *previous (baseline)* contract. \n",
    "- `update_motorcycle[1-4]`: odometer kilometrage *reported by the customer* in the *current (updated)* contract.\n",
    "\n",
    "Some comments:\n",
    "\n",
    "- Recall that a single policy can ensure up to 4 motorcycles, and thus, the suffixes [1-4] indicate that there are 4 \n",
    "versions of these columns in the data (e.g., `baseline_motorcycle1`, `baseline_motorcycle2`, `baseline_motorcycle3`, \n",
    "`baseline_motorcycle4`). \n",
    "- When a policy has fewer than 4 motorcycles, only the columns with the smaller numerals are filled (e.g., if a policy \n",
    "insures one motorcycle,  only `baseline_motorcycle1` and `update_motorcycle1` will be filled).\n",
    "- Note that we only have access to the odometer kilometrage reported by the customers, \n",
    "which may be different from the real kilometrage of the motorcycles."
   ]
  },
  {
   "cell_type": "code",
   "execution_count": 1,
   "metadata": {},
   "outputs": [],
   "source": [
    "# Imports you may need\n",
    "import seaborn as sns\n",
    "from IPython.display import display, HTML\n",
    "import matplotlib.pyplot as plt\n",
    "import scipy.stats as stats\n",
    "import pandas as pd\n",
    "import numpy as np"
   ]
  },
  {
   "cell_type": "markdown",
   "metadata": {},
   "source": [
    "### **Task 1** — 4pts\n",
    "\n",
    "Your first task is to load the dataset into memory using pandas. \n",
    "**You should load the data directly from the compressed files.**\n",
    "\n",
    "Here, the files at hand are rather small, and you could easily uncompress the files to disk and work with them as plain \n",
    "text. Why, then, are we asking you to load the files compressed? The reason is that, in your life as a data scientist, \n",
    "this will often not be the case. Then, working with compressed files is key so that you don't receive email from your \n",
    "(often more responsible) colleagues demanding to know how you have managed to fill the entire cluster with your \n",
    "datasets. Another big advantage of compressing files is to simply read files faster. You will often find that reading\n",
    "compressed data on the fly (uncompressing it as you go), is much faster than reading uncompressed data, since reading\n",
    "and writing to disk may be your [bottleneck](https://skipperkongen.dk/2012/02/28/uncompressed-versus-compressed-read/). \n",
    "\n",
    "---\n",
    "\n",
    "**Hint:** `pandas` can open compressed files.\n",
    "\n",
    "**Hint:** In the real world (and in ADA-homework), your file often comes with some weird lines! \n",
    "This time you can safely ignore them (but in the real world you must try to understand why they are there!). \n",
    "Check the `error_bad_lines` or the `on_bad_lines` (depending on your pandas version) parameter on `read_csv`."
   ]
  },
  {
   "cell_type": "code",
   "execution_count": 2,
   "metadata": {
    "scrolled": true
   },
   "outputs": [],
   "source": [
    "DATA_PATH = './data/'\n",
    "INSURANCE_DATASET = DATA_PATH + 'data.tsv.gz'\n",
    "COMPRESSION = 'gzip'"
   ]
  },
  {
   "cell_type": "code",
   "execution_count": 3,
   "metadata": {},
   "outputs": [
    {
     "name": "stderr",
     "output_type": "stream",
     "text": [
      "b'Skipping line 2142: expected 11 fields, saw 27\\n'\n"
     ]
    },
    {
     "data": {
      "text/html": [
       "<div>\n",
       "<style scoped>\n",
       "    .dataframe tbody tr th:only-of-type {\n",
       "        vertical-align: middle;\n",
       "    }\n",
       "\n",
       "    .dataframe tbody tr th {\n",
       "        vertical-align: top;\n",
       "    }\n",
       "\n",
       "    .dataframe thead th {\n",
       "        text-align: right;\n",
       "    }\n",
       "</style>\n",
       "<table border=\"1\" class=\"dataframe\">\n",
       "  <thead>\n",
       "    <tr style=\"text-align: right;\">\n",
       "      <th></th>\n",
       "      <th>condition</th>\n",
       "      <th>id</th>\n",
       "      <th>baseline_motorcycle1</th>\n",
       "      <th>update_motorcycle1</th>\n",
       "      <th>baseline_motorcycle2</th>\n",
       "      <th>update_motorcycle2</th>\n",
       "      <th>baseline_motorcycle3</th>\n",
       "      <th>update_motorcycle3</th>\n",
       "      <th>baseline_motorcycle4</th>\n",
       "      <th>update_motorcycle4</th>\n",
       "      <th>motorcycle_count</th>\n",
       "    </tr>\n",
       "  </thead>\n",
       "  <tbody>\n",
       "    <tr>\n",
       "      <th>0</th>\n",
       "      <td>Sign Top</td>\n",
       "      <td>1</td>\n",
       "      <td>896</td>\n",
       "      <td>39198</td>\n",
       "      <td>NaN</td>\n",
       "      <td>NaN</td>\n",
       "      <td>NaN</td>\n",
       "      <td>NaN</td>\n",
       "      <td>NaN</td>\n",
       "      <td>NaN</td>\n",
       "      <td>1</td>\n",
       "    </tr>\n",
       "    <tr>\n",
       "      <th>1</th>\n",
       "      <td>Sign Bottom</td>\n",
       "      <td>2</td>\n",
       "      <td>21396</td>\n",
       "      <td>63511</td>\n",
       "      <td>32659.0</td>\n",
       "      <td>47605.0</td>\n",
       "      <td>NaN</td>\n",
       "      <td>NaN</td>\n",
       "      <td>NaN</td>\n",
       "      <td>NaN</td>\n",
       "      <td>2</td>\n",
       "    </tr>\n",
       "    <tr>\n",
       "      <th>2</th>\n",
       "      <td>Sign Bottom</td>\n",
       "      <td>3</td>\n",
       "      <td>21340</td>\n",
       "      <td>37460</td>\n",
       "      <td>44998.0</td>\n",
       "      <td>59002.0</td>\n",
       "      <td>NaN</td>\n",
       "      <td>NaN</td>\n",
       "      <td>NaN</td>\n",
       "      <td>NaN</td>\n",
       "      <td>2</td>\n",
       "    </tr>\n",
       "    <tr>\n",
       "      <th>3</th>\n",
       "      <td>Sign Bottom</td>\n",
       "      <td>4</td>\n",
       "      <td>23912</td>\n",
       "      <td>59136</td>\n",
       "      <td>NaN</td>\n",
       "      <td>NaN</td>\n",
       "      <td>NaN</td>\n",
       "      <td>NaN</td>\n",
       "      <td>NaN</td>\n",
       "      <td>NaN</td>\n",
       "      <td>1</td>\n",
       "    </tr>\n",
       "    <tr>\n",
       "      <th>4</th>\n",
       "      <td>Sign Bottom</td>\n",
       "      <td>5</td>\n",
       "      <td>16862</td>\n",
       "      <td>59292</td>\n",
       "      <td>NaN</td>\n",
       "      <td>NaN</td>\n",
       "      <td>NaN</td>\n",
       "      <td>NaN</td>\n",
       "      <td>NaN</td>\n",
       "      <td>NaN</td>\n",
       "      <td>1</td>\n",
       "    </tr>\n",
       "  </tbody>\n",
       "</table>\n",
       "</div>"
      ],
      "text/plain": [
       "     condition  id  baseline_motorcycle1  update_motorcycle1  \\\n",
       "0     Sign Top   1                   896               39198   \n",
       "1  Sign Bottom   2                 21396               63511   \n",
       "2  Sign Bottom   3                 21340               37460   \n",
       "3  Sign Bottom   4                 23912               59136   \n",
       "4  Sign Bottom   5                 16862               59292   \n",
       "\n",
       "   baseline_motorcycle2  update_motorcycle2  baseline_motorcycle3  \\\n",
       "0                   NaN                 NaN                   NaN   \n",
       "1               32659.0             47605.0                   NaN   \n",
       "2               44998.0             59002.0                   NaN   \n",
       "3                   NaN                 NaN                   NaN   \n",
       "4                   NaN                 NaN                   NaN   \n",
       "\n",
       "   update_motorcycle3  baseline_motorcycle4  update_motorcycle4  \\\n",
       "0                 NaN                   NaN                 NaN   \n",
       "1                 NaN                   NaN                 NaN   \n",
       "2                 NaN                   NaN                 NaN   \n",
       "3                 NaN                   NaN                 NaN   \n",
       "4                 NaN                   NaN                 NaN   \n",
       "\n",
       "   motorcycle_count  \n",
       "0                 1  \n",
       "1                 2  \n",
       "2                 2  \n",
       "3                 1  \n",
       "4                 1  "
      ]
     },
     "execution_count": 3,
     "metadata": {},
     "output_type": "execute_result"
    }
   ],
   "source": [
    "insurance = pd.read_csv(INSURANCE_DATASET, sep = '\\t', compression = COMPRESSION, error_bad_lines = False)\n",
    "insurance.head()"
   ]
  },
  {
   "cell_type": "markdown",
   "metadata": {},
   "source": [
    "### Task 2 — 12pts\n",
    "\n",
    "As a good data scientist, the first thing you do is to clean up the data and perform some small sanity checks.\n",
    "\n",
    "1. The motorcycle insurance company mentioned that each policy has a unique identifier, but that there may be duplicate \n",
    "rows (i.e., multiple rows with the same policy identifier). Check if there are duplicate policies and, if so, filter \n",
    "these rows from the data (always keeping the first).\n",
    "\n",
    "2. According to the company, all policies should have kept the number of motorcycles from the previous contract (i.e., \n",
    "the number of motorcycles recorded in baseline contracts should equal the number of motorcycles in updated contracts). \n",
    "Also, the number of odometer readings for each contract should be the same as the number stated in the \n",
    "`motorcycle_count` variable. Check the data to see if these two things hold. If not, filter the anomalous rows.\n",
    "\n",
    "3. Calculate the mean and the median value of each column related to kilometrages. Are the values obtained plausible? \n",
    "Visualize the distribution of the data and remove any extreme outliers.\n",
    "\n",
    "4. **Discuss:** In cases where you cannot think of appropriate ways to remove outliers, would you prefer summarizing \n",
    "numerical data with outliers with the mean or the median? Why?\n",
    "\n",
    "---\n",
    "\n",
    "**Hint:** Here we are considering as outliers numbers that are not plausible in the context of motorcycle kilometrages."
   ]
  },
  {
   "cell_type": "markdown",
   "metadata": {},
   "source": [
    "* 1) Let's check if there are duplicated policies using `pandas.DataFrame.duplicated` with the parameter \"keep\" set as 'False' to count all duplicate entries in the dataframe:"
   ]
  },
  {
   "cell_type": "code",
   "execution_count": 4,
   "metadata": {},
   "outputs": [
    {
     "name": "stdout",
     "output_type": "stream",
     "text": [
      "There are 18 duplicates at all in the insurance dataset.\n"
     ]
    },
    {
     "data": {
      "text/html": [
       "<div>\n",
       "<style scoped>\n",
       "    .dataframe tbody tr th:only-of-type {\n",
       "        vertical-align: middle;\n",
       "    }\n",
       "\n",
       "    .dataframe tbody tr th {\n",
       "        vertical-align: top;\n",
       "    }\n",
       "\n",
       "    .dataframe thead th {\n",
       "        text-align: right;\n",
       "    }\n",
       "</style>\n",
       "<table border=\"1\" class=\"dataframe\">\n",
       "  <thead>\n",
       "    <tr style=\"text-align: right;\">\n",
       "      <th></th>\n",
       "      <th>condition</th>\n",
       "      <th>id</th>\n",
       "      <th>baseline_motorcycle1</th>\n",
       "      <th>update_motorcycle1</th>\n",
       "      <th>baseline_motorcycle2</th>\n",
       "      <th>update_motorcycle2</th>\n",
       "      <th>baseline_motorcycle3</th>\n",
       "      <th>update_motorcycle3</th>\n",
       "      <th>baseline_motorcycle4</th>\n",
       "      <th>update_motorcycle4</th>\n",
       "      <th>motorcycle_count</th>\n",
       "    </tr>\n",
       "  </thead>\n",
       "  <tbody>\n",
       "    <tr>\n",
       "      <th>13</th>\n",
       "      <td>Sign Bottom</td>\n",
       "      <td>14</td>\n",
       "      <td>83443</td>\n",
       "      <td>105094</td>\n",
       "      <td>NaN</td>\n",
       "      <td>NaN</td>\n",
       "      <td>NaN</td>\n",
       "      <td>NaN</td>\n",
       "      <td>NaN</td>\n",
       "      <td>NaN</td>\n",
       "      <td>1</td>\n",
       "    </tr>\n",
       "    <tr>\n",
       "      <th>14</th>\n",
       "      <td>Sign Bottom</td>\n",
       "      <td>14</td>\n",
       "      <td>83443</td>\n",
       "      <td>105094</td>\n",
       "      <td>NaN</td>\n",
       "      <td>NaN</td>\n",
       "      <td>NaN</td>\n",
       "      <td>NaN</td>\n",
       "      <td>NaN</td>\n",
       "      <td>NaN</td>\n",
       "      <td>1</td>\n",
       "    </tr>\n",
       "    <tr>\n",
       "      <th>332</th>\n",
       "      <td>Sign Bottom</td>\n",
       "      <td>332</td>\n",
       "      <td>1721</td>\n",
       "      <td>30093</td>\n",
       "      <td>30482.0</td>\n",
       "      <td>38315.0</td>\n",
       "      <td>NaN</td>\n",
       "      <td>NaN</td>\n",
       "      <td>NaN</td>\n",
       "      <td>NaN</td>\n",
       "      <td>2</td>\n",
       "    </tr>\n",
       "    <tr>\n",
       "      <th>333</th>\n",
       "      <td>Sign Bottom</td>\n",
       "      <td>332</td>\n",
       "      <td>1721</td>\n",
       "      <td>30093</td>\n",
       "      <td>30482.0</td>\n",
       "      <td>38315.0</td>\n",
       "      <td>NaN</td>\n",
       "      <td>NaN</td>\n",
       "      <td>NaN</td>\n",
       "      <td>NaN</td>\n",
       "      <td>2</td>\n",
       "    </tr>\n",
       "    <tr>\n",
       "      <th>750</th>\n",
       "      <td>Sign Top</td>\n",
       "      <td>749</td>\n",
       "      <td>101625</td>\n",
       "      <td>148134</td>\n",
       "      <td>135926.0</td>\n",
       "      <td>164660.0</td>\n",
       "      <td>NaN</td>\n",
       "      <td>NaN</td>\n",
       "      <td>NaN</td>\n",
       "      <td>NaN</td>\n",
       "      <td>2</td>\n",
       "    </tr>\n",
       "  </tbody>\n",
       "</table>\n",
       "</div>"
      ],
      "text/plain": [
       "       condition   id  baseline_motorcycle1  update_motorcycle1  \\\n",
       "13   Sign Bottom   14                 83443              105094   \n",
       "14   Sign Bottom   14                 83443              105094   \n",
       "332  Sign Bottom  332                  1721               30093   \n",
       "333  Sign Bottom  332                  1721               30093   \n",
       "750     Sign Top  749                101625              148134   \n",
       "\n",
       "     baseline_motorcycle2  update_motorcycle2  baseline_motorcycle3  \\\n",
       "13                    NaN                 NaN                   NaN   \n",
       "14                    NaN                 NaN                   NaN   \n",
       "332               30482.0             38315.0                   NaN   \n",
       "333               30482.0             38315.0                   NaN   \n",
       "750              135926.0            164660.0                   NaN   \n",
       "\n",
       "     update_motorcycle3  baseline_motorcycle4  update_motorcycle4  \\\n",
       "13                  NaN                   NaN                 NaN   \n",
       "14                  NaN                   NaN                 NaN   \n",
       "332                 NaN                   NaN                 NaN   \n",
       "333                 NaN                   NaN                 NaN   \n",
       "750                 NaN                   NaN                 NaN   \n",
       "\n",
       "     motorcycle_count  \n",
       "13                  1  \n",
       "14                  1  \n",
       "332                 2  \n",
       "333                 2  \n",
       "750                 2  "
      ]
     },
     "execution_count": 4,
     "metadata": {},
     "output_type": "execute_result"
    }
   ],
   "source": [
    "duplicated_mask = insurance.duplicated(subset = 'id', keep = False)\n",
    "print(f'There are {np.sum(duplicated_mask)} duplicates at all in the insurance dataset.')\n",
    "insurance[duplicated_mask].head()"
   ]
  },
  {
   "cell_type": "markdown",
   "metadata": {},
   "source": [
    "* The dataset contains duplicate policies, therefore we filter these rows using `pandas.DataFrame.drop_duplicates` with the parameter \"keep\" set as 'first' to remove the duplicates except for the first occurance."
   ]
  },
  {
   "cell_type": "code",
   "execution_count": 5,
   "metadata": {
    "scrolled": true
   },
   "outputs": [
    {
     "name": "stdout",
     "output_type": "stream",
     "text": [
      "The number of rows in the insurance dataframe before filtering: 13497\n",
      "The number of rows in the insurance dataframe after filtering: 13488\n"
     ]
    }
   ],
   "source": [
    "print('The number of rows in the insurance dataframe before filtering:', insurance.shape[0])\n",
    "insurance = insurance.drop_duplicates(subset = ['id'], keep = 'first')\n",
    "print('The number of rows in the insurance dataframe after filtering:', insurance.shape[0])"
   ]
  },
  {
   "cell_type": "markdown",
   "metadata": {},
   "source": [
    "* 2) Here we confirm that the number of motorcycles recorded in the baseline contracts corresponds to the number of motorcycles in the updated contracts.<br>\n",
    "Therefore, for each insurance we retrieve four baseline and four updated contracts independently and then compare each respective `baseline_motocycles` and `updated_motorcycles` pair (from NaN and not NaN point of view) in order to figure out anomalous rows."
   ]
  },
  {
   "cell_type": "code",
   "execution_count": 6,
   "metadata": {},
   "outputs": [
    {
     "name": "stdout",
     "output_type": "stream",
     "text": [
      "All policies keep the number of motorcycles from the previous contract.\n"
     ]
    }
   ],
   "source": [
    "anomalous_rows = insurance.apply(lambda x:\n",
    "                                 np.sum(pd.isnull(x.iloc[2:9:2].values) != pd.isnull(x.iloc[3:10:2].values)),\n",
    "                                 axis = 1)\n",
    "anomalous_rows = insurance.loc[anomalous_rows.values != 0]\n",
    "\n",
    "if anomalous_rows.empty:\n",
    "    print('All policies keep the number of motorcycles from the previous contract.')\n",
    "else:\n",
    "    print('The policies that don\\'t keep the number of motorcycles from the previous contract.')\n",
    "    anomalous_rows.head()"
   ]
  },
  {
   "cell_type": "markdown",
   "metadata": {},
   "source": [
    "* Here we confirm that the number of odometer readings for each contract is the same as the number stated in the `motorcycle_count` variable.<br>\n",
    "Therefore, for each insurance we retrieve four baseline contracts, count the number of values that are not equal to NaN and then subtract `motorcycle_count`. The policies for which the subtraction result is not equal to 0 (the number of motocycles does not match to `motorcycle_count`) are considered as anomalies."
   ]
  },
  {
   "cell_type": "code",
   "execution_count": 7,
   "metadata": {
    "scrolled": true
   },
   "outputs": [
    {
     "name": "stdout",
     "output_type": "stream",
     "text": [
      "The number of odometer readings for each contract is the same as in the motorcycle_count variable.\n"
     ]
    }
   ],
   "source": [
    "anomalous_rows = insurance.apply(lambda x: np.sum(pd.notnull(x.iloc[2:9:2].values)) - x['motorcycle_count'], axis = 1)\n",
    "anomalous_rows = insurance.loc[anomalous_rows.values != 0]\n",
    "\n",
    "if anomalous_rows.empty:\n",
    "    print('The number of odometer readings for each contract is the same as in the motorcycle_count variable.')\n",
    "else:\n",
    "    print('The policies for which the number of odometer readings is not equal to the motorcycle_count variable.')\n",
    "    anomalous_rows.head()"
   ]
  },
  {
   "cell_type": "markdown",
   "metadata": {},
   "source": [
    "* 3) The mean and the median value of each column related to kilometrages:"
   ]
  },
  {
   "cell_type": "code",
   "execution_count": 8,
   "metadata": {},
   "outputs": [
    {
     "data": {
      "text/html": [
       "<style  type=\"text/css\" >\n",
       "</style><table id=\"T_ad18b_\" ><thead>    <tr>        <th class=\"blank level0\" ></th>        <th class=\"col_heading level0 col0\" >baseline_motorcycle1</th>        <th class=\"col_heading level0 col1\" >update_motorcycle1</th>        <th class=\"col_heading level0 col2\" >baseline_motorcycle2</th>        <th class=\"col_heading level0 col3\" >update_motorcycle2</th>        <th class=\"col_heading level0 col4\" >baseline_motorcycle3</th>        <th class=\"col_heading level0 col5\" >update_motorcycle3</th>        <th class=\"col_heading level0 col6\" >baseline_motorcycle4</th>        <th class=\"col_heading level0 col7\" >update_motorcycle4</th>    </tr></thead><tbody>\n",
       "                <tr>\n",
       "                        <th id=\"T_ad18b_level0_row0\" class=\"row_heading level0 row0\" >mean</th>\n",
       "                        <td id=\"T_ad18b_row0_col0\" class=\"data row0 col0\" >741399762819413.75</td>\n",
       "                        <td id=\"T_ad18b_row0_col1\" class=\"data row0 col1\" >741399762844457.50</td>\n",
       "                        <td id=\"T_ad18b_row0_col2\" class=\"data row0 col2\" >67325.97</td>\n",
       "                        <td id=\"T_ad18b_row0_col3\" class=\"data row0 col3\" >92277.63</td>\n",
       "                        <td id=\"T_ad18b_row0_col4\" class=\"data row0 col4\" >67657.32</td>\n",
       "                        <td id=\"T_ad18b_row0_col5\" class=\"data row0 col5\" >92849.41</td>\n",
       "                        <td id=\"T_ad18b_row0_col6\" class=\"data row0 col6\" >67827.98</td>\n",
       "                        <td id=\"T_ad18b_row0_col7\" class=\"data row0 col7\" >93374.28</td>\n",
       "            </tr>\n",
       "            <tr>\n",
       "                        <th id=\"T_ad18b_level0_row1\" class=\"row_heading level0 row1\" >median</th>\n",
       "                        <td id=\"T_ad18b_row1_col0\" class=\"data row1 col0\" >56341.50</td>\n",
       "                        <td id=\"T_ad18b_row1_col1\" class=\"data row1 col1\" >82397.50</td>\n",
       "                        <td id=\"T_ad18b_row1_col2\" class=\"data row1 col2\" >56157.50</td>\n",
       "                        <td id=\"T_ad18b_row1_col3\" class=\"data row1 col3\" >82061.00</td>\n",
       "                        <td id=\"T_ad18b_row1_col4\" class=\"data row1 col4\" >58821.00</td>\n",
       "                        <td id=\"T_ad18b_row1_col5\" class=\"data row1 col5\" >85645.00</td>\n",
       "                        <td id=\"T_ad18b_row1_col6\" class=\"data row1 col6\" >68181.00</td>\n",
       "                        <td id=\"T_ad18b_row1_col7\" class=\"data row1 col7\" >93387.50</td>\n",
       "            </tr>\n",
       "    </tbody></table>"
      ],
      "text/plain": [
       "<pandas.io.formats.style.Styler at 0x7fc6eb488a30>"
      ]
     },
     "execution_count": 8,
     "metadata": {},
     "output_type": "execute_result"
    }
   ],
   "source": [
    "kilometr_stats = insurance.iloc[:, 2:10].agg(['mean', 'median'])\n",
    "kilometr_stats.style.format('{:.2f}')"
   ]
  },
  {
   "cell_type": "markdown",
   "metadata": {},
   "source": [
    "* The values obtained are not plausible: for `baseline_motorcycle1` and `update_motorcycle1` we have mean values of the order of $\\sim 10^{14}$. It is hard to imagine a real motocycle that would achive such an odometer kilometrage."
   ]
  },
  {
   "cell_type": "markdown",
   "metadata": {},
   "source": [
    "* Let's visualize the distribution of the data and remove any extreme outliers.<br>*We will start with visualizing the data distribution using the box plot two times: for the extreme outliers detection and then for the distribution representation after the extreme outliers removal.*"
   ]
  },
  {
   "cell_type": "code",
   "execution_count": 9,
   "metadata": {},
   "outputs": [
    {
     "data": {
      "image/png": "[encoded data removed]",
      "text/plain": [
       "<Figure size 576x360 with 1 Axes>"
      ]
     },
     "metadata": {
      "needs_background": "light"
     },
     "output_type": "display_data"
    }
   ],
   "source": [
    "fig, ax = plt.subplots(figsize = (8, 5))\n",
    "sns.boxplot(data = insurance.iloc[:, 2:10])\n",
    "ax.set_xticklabels(ax.get_xticklabels(), rotation = 75)\n",
    "ax.set_ylabel('Odometer kilometrage')\n",
    "plt.show()"
   ]
  },
  {
   "cell_type": "markdown",
   "metadata": {},
   "source": [
    "* The extreme outliers seem to have value of odometer kilometrage $\\sim 10^{19}$. We will get rid of these policies:"
   ]
  },
  {
   "cell_type": "code",
   "execution_count": 10,
   "metadata": {},
   "outputs": [
    {
     "data": {
      "text/html": [
       "<div>\n",
       "<style scoped>\n",
       "    .dataframe tbody tr th:only-of-type {\n",
       "        vertical-align: middle;\n",
       "    }\n",
       "\n",
       "    .dataframe tbody tr th {\n",
       "        vertical-align: top;\n",
       "    }\n",
       "\n",
       "    .dataframe thead th {\n",
       "        text-align: right;\n",
       "    }\n",
       "</style>\n",
       "<table border=\"1\" class=\"dataframe\">\n",
       "  <thead>\n",
       "    <tr style=\"text-align: right;\">\n",
       "      <th></th>\n",
       "      <th>condition</th>\n",
       "      <th>id</th>\n",
       "      <th>baseline_motorcycle1</th>\n",
       "      <th>update_motorcycle1</th>\n",
       "      <th>baseline_motorcycle2</th>\n",
       "      <th>update_motorcycle2</th>\n",
       "      <th>baseline_motorcycle3</th>\n",
       "      <th>update_motorcycle3</th>\n",
       "      <th>baseline_motorcycle4</th>\n",
       "      <th>update_motorcycle4</th>\n",
       "      <th>motorcycle_count</th>\n",
       "    </tr>\n",
       "  </thead>\n",
       "  <tbody>\n",
       "    <tr>\n",
       "      <th>91</th>\n",
       "      <td>Sign Bottom</td>\n",
       "      <td>8888888</td>\n",
       "      <td>36112</td>\n",
       "      <td>9999999999999999999</td>\n",
       "      <td>NaN</td>\n",
       "      <td>NaN</td>\n",
       "      <td>NaN</td>\n",
       "      <td>NaN</td>\n",
       "      <td>NaN</td>\n",
       "      <td>NaN</td>\n",
       "      <td>1</td>\n",
       "    </tr>\n",
       "    <tr>\n",
       "      <th>13228</th>\n",
       "      <td>Sign Bottom</td>\n",
       "      <td>13451</td>\n",
       "      <td>9999999999999999999</td>\n",
       "      <td>1623780</td>\n",
       "      <td>62221.0</td>\n",
       "      <td>99143.0</td>\n",
       "      <td>NaN</td>\n",
       "      <td>NaN</td>\n",
       "      <td>NaN</td>\n",
       "      <td>NaN</td>\n",
       "      <td>2</td>\n",
       "    </tr>\n",
       "  </tbody>\n",
       "</table>\n",
       "</div>"
      ],
      "text/plain": [
       "         condition       id  baseline_motorcycle1   update_motorcycle1  \\\n",
       "91     Sign Bottom  8888888                 36112  9999999999999999999   \n",
       "13228  Sign Bottom    13451   9999999999999999999              1623780   \n",
       "\n",
       "       baseline_motorcycle2  update_motorcycle2  baseline_motorcycle3  \\\n",
       "91                      NaN                 NaN                   NaN   \n",
       "13228               62221.0             99143.0                   NaN   \n",
       "\n",
       "       update_motorcycle3  baseline_motorcycle4  update_motorcycle4  \\\n",
       "91                    NaN                   NaN                 NaN   \n",
       "13228                 NaN                   NaN                 NaN   \n",
       "\n",
       "       motorcycle_count  \n",
       "91                    1  \n",
       "13228                 2  "
      ]
     },
     "execution_count": 10,
     "metadata": {},
     "output_type": "execute_result"
    }
   ],
   "source": [
    "anomalous_rows = insurance.index[(insurance.iloc[:, 2:10] > 10 ** 18).any(axis = 1)]\n",
    "insurance.loc[anomalous_rows].head()"
   ]
  },
  {
   "cell_type": "markdown",
   "metadata": {},
   "source": [
    "* The improvement after the extreme outliers removal:"
   ]
  },
  {
   "cell_type": "code",
   "execution_count": 11,
   "metadata": {},
   "outputs": [
    {
     "data": {
      "image/png": "[encoded data removed]",
      "text/plain": [
       "<Figure size 576x360 with 1 Axes>"
      ]
     },
     "metadata": {
      "needs_background": "light"
     },
     "output_type": "display_data"
    }
   ],
   "source": [
    "insurance = insurance.drop(labels = anomalous_rows, axis = 0)\n",
    "\n",
    "fig, ax = plt.subplots(figsize = (8, 5))\n",
    "sns.boxplot(data = insurance.iloc[:, 2:10])\n",
    "ax.set_xticklabels(ax.get_xticklabels(), rotation = 75)\n",
    "ax.set_ylabel('Odometer kilometrage')\n",
    "plt.show()"
   ]
  },
  {
   "cell_type": "code",
   "execution_count": 12,
   "metadata": {},
   "outputs": [
    {
     "data": {
      "text/html": [
       "<style  type=\"text/css\" >\n",
       "</style><table id=\"T_edb98_\" ><thead>    <tr>        <th class=\"blank level0\" ></th>        <th class=\"col_heading level0 col0\" >baseline_motorcycle1</th>        <th class=\"col_heading level0 col1\" >update_motorcycle1</th>        <th class=\"col_heading level0 col2\" >baseline_motorcycle2</th>        <th class=\"col_heading level0 col3\" >update_motorcycle2</th>        <th class=\"col_heading level0 col4\" >baseline_motorcycle3</th>        <th class=\"col_heading level0 col5\" >update_motorcycle3</th>        <th class=\"col_heading level0 col6\" >baseline_motorcycle4</th>        <th class=\"col_heading level0 col7\" >update_motorcycle4</th>    </tr></thead><tbody>\n",
       "                <tr>\n",
       "                        <th id=\"T_edb98_level0_row0\" class=\"row_heading level0 row0\" >mean</th>\n",
       "                        <td id=\"T_edb98_row0_col0\" class=\"data row0 col0\" >67345.12</td>\n",
       "                        <td id=\"T_edb98_row0_col1\" class=\"data row0 col1\" >92275.01</td>\n",
       "                        <td id=\"T_edb98_row0_col2\" class=\"data row0 col2\" >67326.87</td>\n",
       "                        <td id=\"T_edb98_row0_col3\" class=\"data row0 col3\" >92276.42</td>\n",
       "                        <td id=\"T_edb98_row0_col4\" class=\"data row0 col4\" >67657.32</td>\n",
       "                        <td id=\"T_edb98_row0_col5\" class=\"data row0 col5\" >92849.41</td>\n",
       "                        <td id=\"T_edb98_row0_col6\" class=\"data row0 col6\" >67827.98</td>\n",
       "                        <td id=\"T_edb98_row0_col7\" class=\"data row0 col7\" >93374.28</td>\n",
       "            </tr>\n",
       "            <tr>\n",
       "                        <th id=\"T_edb98_level0_row1\" class=\"row_heading level0 row1\" >median</th>\n",
       "                        <td id=\"T_edb98_row1_col0\" class=\"data row1 col0\" >56341.50</td>\n",
       "                        <td id=\"T_edb98_row1_col1\" class=\"data row1 col1\" >82382.00</td>\n",
       "                        <td id=\"T_edb98_row1_col2\" class=\"data row1 col2\" >56157.00</td>\n",
       "                        <td id=\"T_edb98_row1_col3\" class=\"data row1 col3\" >82056.00</td>\n",
       "                        <td id=\"T_edb98_row1_col4\" class=\"data row1 col4\" >58821.00</td>\n",
       "                        <td id=\"T_edb98_row1_col5\" class=\"data row1 col5\" >85645.00</td>\n",
       "                        <td id=\"T_edb98_row1_col6\" class=\"data row1 col6\" >68181.00</td>\n",
       "                        <td id=\"T_edb98_row1_col7\" class=\"data row1 col7\" >93387.50</td>\n",
       "            </tr>\n",
       "    </tbody></table>"
      ],
      "text/plain": [
       "<pandas.io.formats.style.Styler at 0x7fc6d8be3fd0>"
      ]
     },
     "execution_count": 12,
     "metadata": {},
     "output_type": "execute_result"
    }
   ],
   "source": [
    "kilometr_stats = insurance.iloc[:, 2:10].agg(['mean', 'median'])\n",
    "kilometr_stats.style.format('{:.2f}')"
   ]
  },
  {
   "cell_type": "markdown",
   "metadata": {},
   "source": [
    "* Here we can notice the first oddity of our dataset: we have a different amount of outliers for each of the four motorcycle columns after extreme outliers removal, but the average of all baseline columns is almost the same and the average of all update columns is almost equal."
   ]
  },
  {
   "cell_type": "markdown",
   "metadata": {},
   "source": [
    "* The box plot allows us to see that medians, quartiles and extremes of the characteristics lie relatively in the same range.<br>\n",
    "Another visualization of the data distribution in order to help us with further processing:"
   ]
  },
  {
   "cell_type": "code",
   "execution_count": 13,
   "metadata": {},
   "outputs": [
    {
     "data": {
      "image/png": "[encoded data removed]",
      "text/plain": [
       "<Figure size 864x288 with 8 Axes>"
      ]
     },
     "metadata": {
      "needs_background": "light"
     },
     "output_type": "display_data"
    }
   ],
   "source": [
    "fig, ax = plt.subplots(2, 4, figsize = (12, 4), sharex = True, sharey = True)\n",
    "clr_palette = sns.color_palette('colorblind', n_colors = 4)\n",
    "\n",
    "for i in range(4):\n",
    "    ax[0, i].hist(insurance['baseline_motorcycle' + str(i + 1)], bins = 100, range = [0, 0.6 * 10 ** 6], color = clr_palette[i])\n",
    "    ax[0, i].set_title('baseline_motorcycle' + str(i + 1))\n",
    "    ax[1, i].hist(insurance['update_motorcycle' + str(i + 1)], bins = 100, range = [0, 0.6 * 10 ** 6], color = clr_palette[i])\n",
    "    ax[1, i].set_title('update_motorcycle' + str(i + 1))\n",
    "    plt.yscale('log')\n",
    "\n",
    "fig.tight_layout(pad = 1.5)\n",
    "fig.text(0.5, 0, 'Odometer kilometrage', ha = 'center', size = 'large')\n",
    "fig.text(0, 0.5, 'Number of policies', va = 'center', size = 'large', rotation = 90)\n",
    "plt.show()"
   ]
  },
  {
   "cell_type": "markdown",
   "metadata": {},
   "source": [
    "* The histograms allow us to compare the distributions respectively according to the number of policies in each interval of the range in order to see general changes. "
   ]
  },
  {
   "cell_type": "markdown",
   "metadata": {},
   "source": [
    "* 4) **Discussion**: According to the implausible mean values obtained above, we have no doubt that in cases where you cannot think of appropriate ways to remove outliers, it is reasonable to prefer summarizing numerical data with outliers using the median as a representative statistic. The fact is, large values of outliers skew up the mean value, therefore it will not tell us anything about the central tendency of the data, whereas the median is a robust measure which is not affected by outliers since it represents the middle in a sorted (ascending or descending) list of values."
   ]
  },
  {
   "cell_type": "markdown",
   "metadata": {},
   "source": [
    "### Task 3 — 12pts\n",
    "\n",
    "One of the challenges with the current data is that it is not clear how to handle policies with multiple motorcycles.\n",
    "\n",
    "1. Create three additional columns in the dataframe, `baseline_average`, `update_average`, and `diff_average`. These \n",
    "should contain, respectively, the average value for `baseline_motorcycle[1-4]` for all motorcycles insured; the average\n",
    " value for `update_motorcycle[1-4]`; and the difference between the average updated value and the average baseline \n",
    " value.\n",
    "2. **Discuss:** Propose another way of aggregating distinct motorcycles from a single policy. Point out a way in which \n",
    "this aggregation may be either better or worse than taking the average for the purpose of comparing the two scenarios in\n",
    " the study (sign at the top vs. sign at the bottom).\n",
    "3. To get a sense of the impact that policies with multiple motorcycles may have in the study, let's perform some \n",
    "additional analyses. Plot the distribution of motorcycles per policy in the data. Your plot should allow for the \n",
    "meaningful comparison of the values shown.\n",
    "4. In 3.1, you calculated the average kilometrage for each policy for the updated contract. Calculate the mean and the \n",
    "standard deviation of these values (which should be in the column `update_average`).\n",
    "5. Another meaningful metric is the average kilometrage **per motorcycle**, not distinguishing motorcycles in different \n",
    "policies (i.e., pooled across policies). **Considering only policies with 4 motorcycles insured,** calculate the mean \n",
    "and the standard deviation of the kilometrage per motorcycle in the updated contract.\n",
    "6. **Discuss:** To analyze whether signing at the top decreases dishonesty, we could consider the data in different ways. We could first calculate the average value per motorcycle within each policy and have one data point per policy **or** we could analyze the data at the motorcycle level and have one data point per motorcycle in the dataset. According to questions 3.4 and 3.5, how may this decision influence the results of the study?\n",
    "---"
   ]
  },
  {
   "cell_type": "markdown",
   "metadata": {},
   "source": [
    "* 1) Here we create new columns: baseline_average, update_average, and diff_average. And show them."
   ]
  },
  {
   "cell_type": "code",
   "execution_count": 14,
   "metadata": {},
   "outputs": [
    {
     "data": {
      "text/html": [
       "<div>\n",
       "<style scoped>\n",
       "    .dataframe tbody tr th:only-of-type {\n",
       "        vertical-align: middle;\n",
       "    }\n",
       "\n",
       "    .dataframe tbody tr th {\n",
       "        vertical-align: top;\n",
       "    }\n",
       "\n",
       "    .dataframe thead th {\n",
       "        text-align: right;\n",
       "    }\n",
       "</style>\n",
       "<table border=\"1\" class=\"dataframe\">\n",
       "  <thead>\n",
       "    <tr style=\"text-align: right;\">\n",
       "      <th></th>\n",
       "      <th>condition</th>\n",
       "      <th>id</th>\n",
       "      <th>baseline_motorcycle1</th>\n",
       "      <th>update_motorcycle1</th>\n",
       "      <th>baseline_motorcycle2</th>\n",
       "      <th>update_motorcycle2</th>\n",
       "      <th>baseline_motorcycle3</th>\n",
       "      <th>update_motorcycle3</th>\n",
       "      <th>baseline_motorcycle4</th>\n",
       "      <th>update_motorcycle4</th>\n",
       "      <th>motorcycle_count</th>\n",
       "      <th>baseline_average</th>\n",
       "      <th>update_average</th>\n",
       "      <th>diff_average</th>\n",
       "    </tr>\n",
       "  </thead>\n",
       "  <tbody>\n",
       "    <tr>\n",
       "      <th>0</th>\n",
       "      <td>Sign Top</td>\n",
       "      <td>1</td>\n",
       "      <td>896</td>\n",
       "      <td>39198</td>\n",
       "      <td>NaN</td>\n",
       "      <td>NaN</td>\n",
       "      <td>NaN</td>\n",
       "      <td>NaN</td>\n",
       "      <td>NaN</td>\n",
       "      <td>NaN</td>\n",
       "      <td>1</td>\n",
       "      <td>896.0</td>\n",
       "      <td>39198.0</td>\n",
       "      <td>38302.0</td>\n",
       "    </tr>\n",
       "    <tr>\n",
       "      <th>1</th>\n",
       "      <td>Sign Bottom</td>\n",
       "      <td>2</td>\n",
       "      <td>21396</td>\n",
       "      <td>63511</td>\n",
       "      <td>32659.0</td>\n",
       "      <td>47605.0</td>\n",
       "      <td>NaN</td>\n",
       "      <td>NaN</td>\n",
       "      <td>NaN</td>\n",
       "      <td>NaN</td>\n",
       "      <td>2</td>\n",
       "      <td>27027.5</td>\n",
       "      <td>55558.0</td>\n",
       "      <td>28530.5</td>\n",
       "    </tr>\n",
       "    <tr>\n",
       "      <th>2</th>\n",
       "      <td>Sign Bottom</td>\n",
       "      <td>3</td>\n",
       "      <td>21340</td>\n",
       "      <td>37460</td>\n",
       "      <td>44998.0</td>\n",
       "      <td>59002.0</td>\n",
       "      <td>NaN</td>\n",
       "      <td>NaN</td>\n",
       "      <td>NaN</td>\n",
       "      <td>NaN</td>\n",
       "      <td>2</td>\n",
       "      <td>33169.0</td>\n",
       "      <td>48231.0</td>\n",
       "      <td>15062.0</td>\n",
       "    </tr>\n",
       "    <tr>\n",
       "      <th>3</th>\n",
       "      <td>Sign Bottom</td>\n",
       "      <td>4</td>\n",
       "      <td>23912</td>\n",
       "      <td>59136</td>\n",
       "      <td>NaN</td>\n",
       "      <td>NaN</td>\n",
       "      <td>NaN</td>\n",
       "      <td>NaN</td>\n",
       "      <td>NaN</td>\n",
       "      <td>NaN</td>\n",
       "      <td>1</td>\n",
       "      <td>23912.0</td>\n",
       "      <td>59136.0</td>\n",
       "      <td>35224.0</td>\n",
       "    </tr>\n",
       "    <tr>\n",
       "      <th>4</th>\n",
       "      <td>Sign Bottom</td>\n",
       "      <td>5</td>\n",
       "      <td>16862</td>\n",
       "      <td>59292</td>\n",
       "      <td>NaN</td>\n",
       "      <td>NaN</td>\n",
       "      <td>NaN</td>\n",
       "      <td>NaN</td>\n",
       "      <td>NaN</td>\n",
       "      <td>NaN</td>\n",
       "      <td>1</td>\n",
       "      <td>16862.0</td>\n",
       "      <td>59292.0</td>\n",
       "      <td>42430.0</td>\n",
       "    </tr>\n",
       "  </tbody>\n",
       "</table>\n",
       "</div>"
      ],
      "text/plain": [
       "     condition  id  baseline_motorcycle1  update_motorcycle1  \\\n",
       "0     Sign Top   1                   896               39198   \n",
       "1  Sign Bottom   2                 21396               63511   \n",
       "2  Sign Bottom   3                 21340               37460   \n",
       "3  Sign Bottom   4                 23912               59136   \n",
       "4  Sign Bottom   5                 16862               59292   \n",
       "\n",
       "   baseline_motorcycle2  update_motorcycle2  baseline_motorcycle3  \\\n",
       "0                   NaN                 NaN                   NaN   \n",
       "1               32659.0             47605.0                   NaN   \n",
       "2               44998.0             59002.0                   NaN   \n",
       "3                   NaN                 NaN                   NaN   \n",
       "4                   NaN                 NaN                   NaN   \n",
       "\n",
       "   update_motorcycle3  baseline_motorcycle4  update_motorcycle4  \\\n",
       "0                 NaN                   NaN                 NaN   \n",
       "1                 NaN                   NaN                 NaN   \n",
       "2                 NaN                   NaN                 NaN   \n",
       "3                 NaN                   NaN                 NaN   \n",
       "4                 NaN                   NaN                 NaN   \n",
       "\n",
       "   motorcycle_count  baseline_average  update_average  diff_average  \n",
       "0                 1             896.0         39198.0       38302.0  \n",
       "1                 2           27027.5         55558.0       28530.5  \n",
       "2                 2           33169.0         48231.0       15062.0  \n",
       "3                 1           23912.0         59136.0       35224.0  \n",
       "4                 1           16862.0         59292.0       42430.0  "
      ]
     },
     "execution_count": 14,
     "metadata": {},
     "output_type": "execute_result"
    }
   ],
   "source": [
    "insurance['baseline_average'] = insurance.iloc[:, 2:9:2].mean(axis = 1)\n",
    "insurance['update_average'] = insurance.iloc[:, 3:10:2].mean(axis = 1)\n",
    "insurance['diff_average'] = insurance['update_average'] - insurance['baseline_average']\n",
    "insurance.head()"
   ]
  },
  {
   "cell_type": "markdown",
   "metadata": {},
   "source": [
    "* 2) **Discussion**: Another way of aggregating distinct motorcycles from a single policy is to calculate the difference between the updated value and the baseline value for each motorcycle and then create a column with the minimum of these differences for each policy.<br>\n",
    "This aggregation may be better than taking the average for the purpose of comparing the two scenarios in the study because in that case we can analyse the minimum distance traveled by a customer's motorcycle, stated in an updated contract. We can check whether there are any negative numbers in that new column. In that case customer obviously lied and that is what we need to know to compare the two scenarios in the study."
   ]
  },
  {
   "cell_type": "markdown",
   "metadata": {},
   "source": [
    "* 3) Here we plot the distribution of motorcycles per policy in the data. The plot shows the share of policies with the stated number of insured motorcycles. We can see what part of the total amount of policies includes the stated amount of insured motorcycles."
   ]
  },
  {
   "cell_type": "code",
   "execution_count": 15,
   "metadata": {},
   "outputs": [
    {
     "data": {
      "image/png": "[encoded data removed]",
      "text/plain": [
       "<Figure size 432x288 with 1 Axes>"
      ]
     },
     "metadata": {
      "needs_background": "light"
     },
     "output_type": "display_data"
    }
   ],
   "source": [
    "sns_plot = sns.histplot(insurance['motorcycle_count'], discrete = True, stat = 'density')\n",
    "sns_plot.set_xticks([1, 2, 3, 4])\n",
    "plt.xlabel('Number of motorcycles per policy')\n",
    "plt.ylabel('Share of policies in total amount')\n",
    "plt.title('Distribution of motorcycles per policy');\n",
    "plt.show()"
   ]
  },
  {
   "cell_type": "markdown",
   "metadata": {},
   "source": [
    "* We can see that the majority of customers get an insurance for only one motorcycle. At the same time, more that 40% of customers have 2 motorcycles. And less than 10% of customers bought an insurance for more than 2 motorcycles. "
   ]
  },
  {
   "cell_type": "markdown",
   "metadata": {},
   "source": [
    "* 4) Here we calculate the mean and the standard deviation of the average kilometrage for each policy for the updated contract."
   ]
  },
  {
   "cell_type": "code",
   "execution_count": 16,
   "metadata": {},
   "outputs": [
    {
     "name": "stdout",
     "output_type": "stream",
     "text": [
      "The mean and std of the average kilometrage for each policy for the updated contract:\n",
      "\n",
      "mean    92166.980090\n",
      "std     52212.864277\n",
      "Name: update_average, dtype: float64\n"
     ]
    }
   ],
   "source": [
    "update_average_stats = insurance.update_average.agg(['mean', 'std'])\n",
    "\n",
    "print('The mean and std of the average kilometrage for each policy for the updated contract:\\n')\n",
    "print(update_average_stats)"
   ]
  },
  {
   "cell_type": "markdown",
   "metadata": {},
   "source": [
    "* 5) Here we calculate the mean and the standard deviation of the kilometrage per motorcycle in the updated contract, considering only policies with 4 motorcycles insured. Firstly, we select rows of policies with 4 motorcycles insured. Secondly, we concatenate columns related to the updated contract using function `pandas.concat`, so we can work with all motorcycles simultaneously. And, finally, we calculate the mean and the standard deviation values."
   ]
  },
  {
   "cell_type": "code",
   "execution_count": 17,
   "metadata": {},
   "outputs": [
    {
     "data": {
      "text/html": [
       "<div>\n",
       "<style scoped>\n",
       "    .dataframe tbody tr th:only-of-type {\n",
       "        vertical-align: middle;\n",
       "    }\n",
       "\n",
       "    .dataframe tbody tr th {\n",
       "        vertical-align: top;\n",
       "    }\n",
       "\n",
       "    .dataframe thead th {\n",
       "        text-align: right;\n",
       "    }\n",
       "</style>\n",
       "<table border=\"1\" class=\"dataframe\">\n",
       "  <thead>\n",
       "    <tr style=\"text-align: right;\">\n",
       "      <th></th>\n",
       "      <th>condition</th>\n",
       "      <th>id</th>\n",
       "      <th>baseline_motorcycle1</th>\n",
       "      <th>update_motorcycle1</th>\n",
       "      <th>baseline_motorcycle2</th>\n",
       "      <th>update_motorcycle2</th>\n",
       "      <th>baseline_motorcycle3</th>\n",
       "      <th>update_motorcycle3</th>\n",
       "      <th>baseline_motorcycle4</th>\n",
       "      <th>update_motorcycle4</th>\n",
       "      <th>motorcycle_count</th>\n",
       "      <th>baseline_average</th>\n",
       "      <th>update_average</th>\n",
       "      <th>diff_average</th>\n",
       "    </tr>\n",
       "  </thead>\n",
       "  <tbody>\n",
       "    <tr>\n",
       "      <th>667</th>\n",
       "      <td>Sign Bottom</td>\n",
       "      <td>666</td>\n",
       "      <td>58826</td>\n",
       "      <td>73695</td>\n",
       "      <td>244390.0</td>\n",
       "      <td>258090.0</td>\n",
       "      <td>122407.0</td>\n",
       "      <td>172259.0</td>\n",
       "      <td>176373.0</td>\n",
       "      <td>181853.0</td>\n",
       "      <td>4</td>\n",
       "      <td>150499.00</td>\n",
       "      <td>171474.25</td>\n",
       "      <td>20975.25</td>\n",
       "    </tr>\n",
       "    <tr>\n",
       "      <th>808</th>\n",
       "      <td>Sign Bottom</td>\n",
       "      <td>806</td>\n",
       "      <td>10991</td>\n",
       "      <td>54484</td>\n",
       "      <td>145902.0</td>\n",
       "      <td>169544.0</td>\n",
       "      <td>176424.0</td>\n",
       "      <td>200676.0</td>\n",
       "      <td>148268.0</td>\n",
       "      <td>175073.0</td>\n",
       "      <td>4</td>\n",
       "      <td>120396.25</td>\n",
       "      <td>149944.25</td>\n",
       "      <td>29548.00</td>\n",
       "    </tr>\n",
       "    <tr>\n",
       "      <th>1140</th>\n",
       "      <td>Sign Bottom</td>\n",
       "      <td>1137</td>\n",
       "      <td>50350</td>\n",
       "      <td>56530</td>\n",
       "      <td>18421.0</td>\n",
       "      <td>25406.0</td>\n",
       "      <td>27714.0</td>\n",
       "      <td>63904.0</td>\n",
       "      <td>64784.0</td>\n",
       "      <td>81011.0</td>\n",
       "      <td>4</td>\n",
       "      <td>40317.25</td>\n",
       "      <td>56712.75</td>\n",
       "      <td>16395.50</td>\n",
       "    </tr>\n",
       "    <tr>\n",
       "      <th>1382</th>\n",
       "      <td>Sign Top</td>\n",
       "      <td>1378</td>\n",
       "      <td>128392</td>\n",
       "      <td>143297</td>\n",
       "      <td>124477.0</td>\n",
       "      <td>137163.0</td>\n",
       "      <td>87000.0</td>\n",
       "      <td>128668.0</td>\n",
       "      <td>14255.0</td>\n",
       "      <td>36553.0</td>\n",
       "      <td>4</td>\n",
       "      <td>88531.00</td>\n",
       "      <td>111420.25</td>\n",
       "      <td>22889.25</td>\n",
       "    </tr>\n",
       "    <tr>\n",
       "      <th>2005</th>\n",
       "      <td>Sign Top</td>\n",
       "      <td>1999</td>\n",
       "      <td>1053</td>\n",
       "      <td>33805</td>\n",
       "      <td>134778.0</td>\n",
       "      <td>146708.0</td>\n",
       "      <td>175000.0</td>\n",
       "      <td>196685.0</td>\n",
       "      <td>132000.0</td>\n",
       "      <td>140345.0</td>\n",
       "      <td>4</td>\n",
       "      <td>110707.75</td>\n",
       "      <td>129385.75</td>\n",
       "      <td>18678.00</td>\n",
       "    </tr>\n",
       "  </tbody>\n",
       "</table>\n",
       "</div>"
      ],
      "text/plain": [
       "        condition    id  baseline_motorcycle1  update_motorcycle1  \\\n",
       "667   Sign Bottom   666                 58826               73695   \n",
       "808   Sign Bottom   806                 10991               54484   \n",
       "1140  Sign Bottom  1137                 50350               56530   \n",
       "1382     Sign Top  1378                128392              143297   \n",
       "2005     Sign Top  1999                  1053               33805   \n",
       "\n",
       "      baseline_motorcycle2  update_motorcycle2  baseline_motorcycle3  \\\n",
       "667               244390.0            258090.0              122407.0   \n",
       "808               145902.0            169544.0              176424.0   \n",
       "1140               18421.0             25406.0               27714.0   \n",
       "1382              124477.0            137163.0               87000.0   \n",
       "2005              134778.0            146708.0              175000.0   \n",
       "\n",
       "      update_motorcycle3  baseline_motorcycle4  update_motorcycle4  \\\n",
       "667             172259.0              176373.0            181853.0   \n",
       "808             200676.0              148268.0            175073.0   \n",
       "1140             63904.0               64784.0             81011.0   \n",
       "1382            128668.0               14255.0             36553.0   \n",
       "2005            196685.0              132000.0            140345.0   \n",
       "\n",
       "      motorcycle_count  baseline_average  update_average  diff_average  \n",
       "667                  4         150499.00       171474.25      20975.25  \n",
       "808                  4         120396.25       149944.25      29548.00  \n",
       "1140                 4          40317.25        56712.75      16395.50  \n",
       "1382                 4          88531.00       111420.25      22889.25  \n",
       "2005                 4         110707.75       129385.75      18678.00  "
      ]
     },
     "execution_count": 17,
     "metadata": {},
     "output_type": "execute_result"
    }
   ],
   "source": [
    "rows_with_4_motorcycles = insurance.loc[insurance['motorcycle_count'] == 4]\n",
    "rows_with_4_motorcycles.head()"
   ]
  },
  {
   "cell_type": "code",
   "execution_count": 18,
   "metadata": {},
   "outputs": [
    {
     "name": "stdout",
     "output_type": "stream",
     "text": [
      "The mean and std of the kilometrage per motorcycle in the updated contract for policies with 4 motorcycles:\n",
      "\n",
      "mean    113443.863636\n",
      "std      83148.461506\n",
      "dtype: float64\n"
     ]
    }
   ],
   "source": [
    "kilometrage_per_motorcycle = pd.concat([rows_with_4_motorcycles.update_motorcycle1,\n",
    "                                        rows_with_4_motorcycles.update_motorcycle2,\n",
    "                                        rows_with_4_motorcycles.update_motorcycle3,\n",
    "                                        rows_with_4_motorcycles.update_motorcycle4])\n",
    "kilometrage_per_motorcycle_stats = kilometrage_per_motorcycle.agg(['mean', 'std'])\n",
    "\n",
    "print('The mean and std of the kilometrage per motorcycle in the updated contract for policies with 4 motorcycles:\\n')\n",
    "print(kilometrage_per_motorcycle_stats)"
   ]
  },
  {
   "cell_type": "markdown",
   "metadata": {},
   "source": [
    "* 6) **Discussion**: This decision of getting one data point per policy or one data point per motorcycle in the dataset can significantly influence the results of the study. We can see that in the situation when we have one data point per policy the mean value (as well as the standard deviation) of the average kilometrage for the updated contract is much smaller than in the situation when we have one data point per motorcycle. Customers can lie about one of their motorcycles while writing true values for other. And we will not notice that, if we analyse only average values for each policy."
   ]
  },
  {
   "cell_type": "markdown",
   "metadata": {},
   "source": [
    "### Task 4 — 18pts\n",
    "\n",
    "Now that we have compressed the kilometrage reported in each contract into a single number, it is time to analyze the \n",
    "million-dollar question: *does signing at the top decrease dishonesty?*\n",
    "\n",
    "1. Considering the updated contracts, calculate the mean and the standard deviation of the average kilometrage in a) \n",
    "policies where the signing was done at the bottom; and b) policies where the signing was done at the top. Additionally,\n",
    "plot the two kilometrage distributions.\n",
    "2. Determine whether the difference between the two scenarios mentioned in 1. is statistically significant.\n",
    "3. **Discuss:** Recall that the assignment of the different contracts (*sign at the top* vs. *sign at the bottom*) was \n",
    "done at random. According to the results in 1. and 2., does signing at the top decrease dishonesty? \n",
    "4.  **Discuss:** Given that no intervention was performed in the baseline contract (i.e., everyone signed at the \n",
    "bottom). Would you expect any differences between the average values between *sign at the top* vs. *sign at the bottom*\n",
    " conditions for the baseline contract? Note that this is related to columns `baseline_motorcycle[1-4]`.\n",
    "5. Calculate the mean and the standard deviation for the baseline contracts of the two groups (sign at the top vs. sign \n",
    "at the bottom). Additionally, plot the two kilometrage distributions.\n",
    "6. Determine whether the difference between the two scenarios mentioned in 5. is statistically significant.\n",
    "\n",
    "---\n",
    "\n",
    "**Hint:** Recall that the column `condition` encodes the experimental condition in which the customer fell when \n",
    "reporting the values shown in columns `update_motorcycle[1-4]`!\n",
    "\n",
    "**Hint:** To determine if the means of two sets of data are significantly different from each other, you may want to use\n",
    " the `ttest_ind` function implemented in the \n",
    " [scipy library](https://docs.scipy.org/doc/scipy/reference/generated/scipy.stats.ttest_ind.html). To learn more about \n",
    " Student's t-test, check out this [Wikipedia page](https://en.wikipedia.org/wiki/Student%27s_t-test)."
   ]
  },
  {
   "cell_type": "markdown",
   "metadata": {},
   "source": [
    "* 1.a) Here we calculate the mean and the standard deviation of the average kilometrage in policies where the signing was done at the bottom, considering the updated contracts."
   ]
  },
  {
   "cell_type": "code",
   "execution_count": 19,
   "metadata": {},
   "outputs": [
    {
     "name": "stdout",
     "output_type": "stream",
     "text": [
      "The mean and std of the average kilometrage in policies signed at the bottom (the updated contracts):\n",
      "\n",
      "mean    98692.362262\n",
      "std     51928.181550\n",
      "Name: update_average, dtype: float64\n"
     ]
    }
   ],
   "source": [
    "av_up_kilometrage_bottom = insurance.loc[insurance['condition'] == 'Sign Bottom']\n",
    "av_up_kilometrage_bottom_stats = av_up_kilometrage_bottom.update_average.agg(['mean', 'std'])\n",
    "\n",
    "print('The mean and std of the average kilometrage in policies signed at the bottom (the updated contracts):\\n')\n",
    "print(av_up_kilometrage_bottom_stats)"
   ]
  },
  {
   "cell_type": "markdown",
   "metadata": {},
   "source": [
    "* 1.b) Here we calculate the mean and the standard deviation of the average kilometrage in policies where the signing was done at the top, considering the updated contracts."
   ]
  },
  {
   "cell_type": "code",
   "execution_count": 20,
   "metadata": {},
   "outputs": [
    {
     "name": "stdout",
     "output_type": "stream",
     "text": [
      "The mean and std of the average kilometrage in policies signed at the top (the updated contracts):\n",
      "\n",
      "mean    85794.618753\n",
      "std     51704.289078\n",
      "Name: update_average, dtype: float64\n"
     ]
    }
   ],
   "source": [
    "av_up_kilometrage_top = insurance.loc[insurance['condition'] == 'Sign Top']\n",
    "av_up_kilometrage_top_stats = av_up_kilometrage_top.update_average.agg(['mean', 'std'])\n",
    "\n",
    "print('The mean and std of the average kilometrage in policies signed at the top (the updated contracts):\\n')\n",
    "print(av_up_kilometrage_top_stats)"
   ]
  },
  {
   "cell_type": "markdown",
   "metadata": {},
   "source": [
    "* Here we plot the two kilometrage distributions."
   ]
  },
  {
   "cell_type": "code",
   "execution_count": 21,
   "metadata": {},
   "outputs": [
    {
     "data": {
      "image/png": "[encoded data removed]",
      "text/plain": [
       "<Figure size 432x288 with 1 Axes>"
      ]
     },
     "metadata": {
      "needs_background": "light"
     },
     "output_type": "display_data"
    }
   ],
   "source": [
    "sns.kdeplot(av_up_kilometrage_bottom.update_average, shade = True, label = 'Signed Bottom')\n",
    "sns.kdeplot(av_up_kilometrage_top.update_average, shade = True, label = 'Signed Top')\n",
    "plt.title('Updated kilometrage distributions')\n",
    "plt.xlabel('Average kilometrage')\n",
    "plt.legend()\n",
    "plt.show()"
   ]
  },
  {
   "cell_type": "markdown",
   "metadata": {},
   "source": [
    "* 2) Here we determine whether the difference between the two scenarios is statistically significant using `scipy.stats.ttest_ind()` function."
   ]
  },
  {
   "cell_type": "code",
   "execution_count": 22,
   "metadata": {},
   "outputs": [
    {
     "data": {
      "text/plain": [
       "Ttest_indResult(statistic=14.452368101354606, pvalue=5.435352130291242e-47)"
      ]
     },
     "execution_count": 22,
     "metadata": {},
     "output_type": "execute_result"
    }
   ],
   "source": [
    "stats.ttest_ind(av_up_kilometrage_bottom.update_average, av_up_kilometrage_top.update_average)"
   ]
  },
  {
   "cell_type": "markdown",
   "metadata": {},
   "source": [
    "* Bearing in mind, that the p-value of the ttest for these two distributions is much smaller than 0.05, we can conclude that the difference between the two scenarios is statistically significant."
   ]
  },
  {
   "cell_type": "markdown",
   "metadata": {},
   "source": [
    "* 3) **Discussion**: No, signing at the top doesn't decrease dishonesty, according to the previous results, because we see that the mean value of the average kilometrage in policies where the signing was done at the top is smaller than the mean value of the average kilometrage in policies where the signing was done at the bottom. It means that customers, who signed at the end of a document, reported larger numbers as their morcycles' kilometrage than those who signed at the beginning. So, it is possible that people, who signed at the beginning, were more dishonest. "
   ]
  },
  {
   "cell_type": "markdown",
   "metadata": {},
   "source": [
    "* 4) **Discussion**: No, we wouldn't expect any differences between the average values between sign at the top vs. sign at the bottom conditions for the baseline contract, if everyone signed at the bottom. That condition could influence only the average values in the updated documents, because the circumstances for all customers were the same. That is why, the distributions of the average kilometrage for these two groups of baseline contracts should be the same."
   ]
  },
  {
   "cell_type": "markdown",
   "metadata": {},
   "source": [
    "* 5) Here we calculate the mean and the standard deviation of the average kilometrage in policies where the signing was done at the bottom, considering the baseline contracts."
   ]
  },
  {
   "cell_type": "code",
   "execution_count": 23,
   "metadata": {},
   "outputs": [
    {
     "name": "stdout",
     "output_type": "stream",
     "text": [
      "The mean and std of the average kilometrage in policies signed at the bottom (the baseline contracts):\n",
      "\n",
      "mean    75020.747098\n",
      "std     50256.586376\n",
      "Name: baseline_average, dtype: float64\n"
     ]
    }
   ],
   "source": [
    "av_base_kilometrage_bottom = insurance.loc[insurance['condition'] == 'Sign Bottom']\n",
    "av_base_kilometrage_bottom_stats = av_base_kilometrage_bottom.baseline_average.agg(['mean', 'std'])\n",
    "\n",
    "print('The mean and std of the average kilometrage in policies signed at the bottom (the baseline contracts):\\n')\n",
    "print(av_base_kilometrage_bottom_stats)"
   ]
  },
  {
   "cell_type": "markdown",
   "metadata": {},
   "source": [
    "* Here we calculate the mean and the standard deviation of the average kilometrage in policies where the signing was done at the top, considering the baseline contracts."
   ]
  },
  {
   "cell_type": "code",
   "execution_count": 24,
   "metadata": {},
   "outputs": [
    {
     "name": "stdout",
     "output_type": "stream",
     "text": [
      "The mean and std of the average kilometrage in policies signed at the top (the baseline contracts):\n",
      "\n",
      "mean    59696.234696\n",
      "std     49956.317151\n",
      "Name: baseline_average, dtype: float64\n"
     ]
    }
   ],
   "source": [
    "av_base_kilometrage_top = insurance.loc[insurance['condition'] == 'Sign Top']\n",
    "av_base_kilometrage_top_stats = av_base_kilometrage_top.baseline_average.agg(['mean', 'std'])\n",
    "\n",
    "print('The mean and std of the average kilometrage in policies signed at the top (the baseline contracts):\\n')\n",
    "print(av_base_kilometrage_top_stats)"
   ]
  },
  {
   "cell_type": "markdown",
   "metadata": {},
   "source": [
    "* Here we plot the two kilometrage distributions."
   ]
  },
  {
   "cell_type": "code",
   "execution_count": 25,
   "metadata": {},
   "outputs": [
    {
     "data": {
      "image/png": "[encoded data removed]",
      "text/plain": [
       "<Figure size 432x288 with 1 Axes>"
      ]
     },
     "metadata": {
      "needs_background": "light"
     },
     "output_type": "display_data"
    }
   ],
   "source": [
    "sns.kdeplot(av_base_kilometrage_bottom.baseline_average, shade = True, label = 'Signed Bottom')\n",
    "sns.kdeplot(av_base_kilometrage_top.baseline_average, shade = True, label = 'Signed Top')\n",
    "plt.title('Baseline kilometrage distributions')\n",
    "plt.xlabel('Average kilometrage')\n",
    "plt.legend()\n",
    "plt.show()"
   ]
  },
  {
   "cell_type": "markdown",
   "metadata": {},
   "source": [
    "* 6) Here we determine whether the difference between the two scenarios is statistically significant using `scipy.stats.ttest_ind()` function."
   ]
  },
  {
   "cell_type": "code",
   "execution_count": 26,
   "metadata": {},
   "outputs": [
    {
     "data": {
      "text/plain": [
       "Ttest_indResult(statistic=17.75773299430071, pvalue=9.333114026345824e-70)"
      ]
     },
     "execution_count": 26,
     "metadata": {},
     "output_type": "execute_result"
    }
   ],
   "source": [
    "stats.ttest_ind(av_up_kilometrage_bottom.baseline_average, av_up_kilometrage_top.baseline_average)"
   ]
  },
  {
   "cell_type": "markdown",
   "metadata": {},
   "source": [
    "* Now we can see that the difference between these two scenarios is also statistically significant (p-value < 0.05). However, we already know that it shouldn't be like that (see 4.4). That fact is suspicious for us. One of the possible scenario is that the insurance company didn’t randomize the different forms. Here we make our first hypothesis: the forms with signing on top or bottom were distributed based on the previous odometer kilometrage."
   ]
  },
  {
   "cell_type": "markdown",
   "metadata": {},
   "source": [
    "## Interlude: Something is dodgy about this data...\n",
    "\n",
    "---\n",
    "\n",
    "Noticing the oddities in the data, you send an email to your contact at the insurance company asking about the integrity\n",
    " of the data. Their reply seems like something out of a detective movie:\n",
    "\n",
    "> Dear researcher, I believe that this data is not to be trusted. I can't talk right now but will send further hints \n",
    ">throughout the week.\n",
    "\n",
    "As a researcher, you know that [data integrity](https://en.wikipedia.org/wiki/Data_integrity) is a big deal, and decide\n",
    " to investigate."
   ]
  },
  {
   "cell_type": "markdown",
   "metadata": {},
   "source": [
    "### Task 5 — 9pts\n",
    "\n",
    "The first hint you receive is: *there is something off about the kilometrage values in the data.*\n",
    "\n",
    "1. For the baseline contract and for the updated contract, plot the distribution of odometer kilometrage reported for \n",
    "the first motorcycle insured in each policy. \n",
    "2. For the first motorcycle insured by the company in each policy, plot the difference between the number of kilometers\n",
    " reported in the baseline and in the updated contract.\n",
    "3. **Discuss:** why is this data unlikely to have originated from real odometer readings?\n",
    "\n",
    "---"
   ]
  },
  {
   "cell_type": "markdown",
   "metadata": {},
   "source": [
    "* 1) Here we plot the distribution of odometer kilometrage reported for the first motorcycle insured in each policy."
   ]
  },
  {
   "cell_type": "code",
   "execution_count": 27,
   "metadata": {},
   "outputs": [
    {
     "data": {
      "image/png": "[encoded data removed]",
      "text/plain": [
       "<Figure size 432x288 with 1 Axes>"
      ]
     },
     "metadata": {
      "needs_background": "light"
     },
     "output_type": "display_data"
    }
   ],
   "source": [
    "plt.hist(insurance['baseline_motorcycle1'], bins = 1000, alpha = 1, range = [0, 0.4 * 10 ** 6], label = 'Baseline', color = clr_palette[0])\n",
    "plt.hist(insurance['update_motorcycle1'], bins = 1000, alpha = 0.5, range = [0, 0.4 * 10 ** 6], label = 'Update', color = clr_palette[1])\n",
    "plt.legend(loc = 'upper right')\n",
    "plt.xlabel('Odometer kilometrage')\n",
    "plt.ylabel('Number of motocycles')\n",
    "plt.title('Kilometrage of baseline/updated contracts')\n",
    "plt.yscale('log')\n",
    "plt.show()"
   ]
  },
  {
   "cell_type": "markdown",
   "metadata": {},
   "source": [
    "* From this plot, we observe that there are noticeable peaks on round numbers such as 0, 50000, 100000 for baseline kilometrages, which is natural because people tend to report round numbers. At the same time, we can’t observe such peaks for updated kilometrages, that makes us doubt the authenticity of the updated contracts data."
   ]
  },
  {
   "cell_type": "markdown",
   "metadata": {},
   "source": [
    "* 2) Here we plot the difference between the number of kilometers reported in the baseline and in the updated contract."
   ]
  },
  {
   "cell_type": "code",
   "execution_count": 28,
   "metadata": {},
   "outputs": [
    {
     "data": {
      "image/png": "[encoded data removed]",
      "text/plain": [
       "<Figure size 432x288 with 1 Axes>"
      ]
     },
     "metadata": {
      "needs_background": "light"
     },
     "output_type": "display_data"
    }
   ],
   "source": [
    "difference_motorcycle1 = insurance['update_motorcycle1'] - insurance['baseline_motorcycle1']\n",
    "\n",
    "diff_moto1 = sns.histplot(difference_motorcycle1.values, bins = 40, color = clr_palette[2])\n",
    "diff_moto1.set_xlabel('Difference in kilometrage')\n",
    "diff_moto1.set_ylabel('Number of motocycles')\n",
    "plt.title('Difference of kilometrage b/w baseline and updated contracts')\n",
    "plt.show()"
   ]
  },
  {
   "cell_type": "markdown",
   "metadata": {},
   "source": [
    "* This plot is absolutely suspicious, we observe that the distribution of kilometrage difference between baseline and updated contracts is obviously uniform, but it shouldn't be so. Right now we can almost be sure that the updated kilometrage data is fabricated. "
   ]
  },
  {
   "cell_type": "markdown",
   "metadata": {},
   "source": [
    "* 3) **Discussion**: We assume that the differences between the odometer kilometrage values in the updated and baseline contracts should follow a right-skewed distribution or normal distribution due to the nature of their origin. Physical quantities, such as the distance traveled by one motorcycle during the year, that are expected to be the sum of many independent processes, such as distances of different motorcycle trips, often have distributions that are nearly normal. However, we can see that in our case it is uniformly distributed, which makes us doubt the reliability of the data source. Based on this, we make our second hypothesis that the data for updated odometer readings was created from baseline odometer readings by adding a uniformly distributed random variable. Another observation implies that for the baseline contract histogram, the most noticeable peaks are on the round numbers such as 0, 50000, 100000, and so on. This indicates that some insurance holders tended to round their odometer kilometrage to smaller round numbers when they reported the readings before the dishonesty experiment. However, we can’t observe the peaks of this kind in updated kilometrages, which supports our hypothesis mentioned above."
   ]
  },
  {
   "cell_type": "markdown",
   "metadata": {},
   "source": [
    "### Task 6 — 15pts\n",
    "\n",
    "The second hint you receive is: *there is something off with the last digits of the reported kilometrages.*\n",
    "\n",
    "1. Considering the baseline kilometrage of the first motorcycle in each contract (`baseline_motorcycle1`), plot the \n",
    "distribution of occurrences of the last three digits. Repeat the same for the updated kilometrage of the first \n",
    "motorcycle in each contract (`update_motorcycle1`).\n",
    "\n",
    "3. **Discuss:** What are the differences between the two distributions?\n",
    "\n",
    "4. **Discuss:** Hypothesize a **plausible** cause for the patterns observed in the digit distribution of the baseline\n",
    " kilometrage of the first motorcycle.\n",
    "    \n",
    "---\n",
    "\n",
    "**Hint:** The last two digits of the number 12314 are 314. Note that you should consider the three last digits together,\n",
    " not separately!"
   ]
  },
  {
   "cell_type": "markdown",
   "metadata": {},
   "source": [
    "* 1) Here we plot the distribution of occurrences of the last three digits of baseline kilometrage and updated kilometrage."
   ]
  },
  {
   "cell_type": "code",
   "execution_count": 29,
   "metadata": {},
   "outputs": [
    {
     "data": {
      "image/png": "[encoded data removed]",
      "text/plain": [
       "<Figure size 432x288 with 1 Axes>"
      ]
     },
     "metadata": {
      "needs_background": "light"
     },
     "output_type": "display_data"
    }
   ],
   "source": [
    "last_digits_baseline = insurance['baseline_motorcycle1'].apply(lambda x: x % 1000)\n",
    "last_digits_updated = insurance['update_motorcycle1'].apply(lambda x: x % 1000)\n",
    "\n",
    "sns.histplot(last_digits_baseline.values, bins = 200,alpha = 1, label = 'Baseline', color = clr_palette[0])\n",
    "sns.histplot(last_digits_updated.values, bins = 200,alpha = 0.5, label = 'Update', color = clr_palette[1])\n",
    "plt.legend(loc = 'upper right')\n",
    "plt.xlabel('Last three digits of kilometrage')\n",
    "plt.ylabel('Number of motocycles')\n",
    "plt.title('Occurrences of the last three digits in baseline/updated contracts')\n",
    "plt.yscale('log')\n",
    "plt.show()"
   ]
  },
  {
   "cell_type": "markdown",
   "metadata": {},
   "source": [
    "* 2) **Discussion:** For updated kilometrage, the distribution of occurrences of the last three digits is more uniform. While for baseline kilometrage, occurrences of the last three digits, which is a round number (0,100,200,...), are significantly higher."
   ]
  },
  {
   "cell_type": "markdown",
   "metadata": {},
   "source": [
    "* 3) **Discussion:** Hypothesis: When declaring the odometer kilometrage, the customers tend to report a smaller number of kilometrage rounding it to the closest thresholds of particular insurance tariffs."
   ]
  },
  {
   "cell_type": "markdown",
   "metadata": {},
   "source": [
    "### Task 7 — 15pts\n",
    "\n",
    "The third (and last) hint you receive is: *there is something wrong with the fonts.*\n",
    "\n",
    "Your anonymous source explains that the `.tsv` file sent to you was derived from an Excel sheet. There, some of the rows\n",
    " were written in the font *Helvetica* while others were written in the font *Arial*. Your anonymous source sends you a \n",
    " file with the relation between policy id and the font used in the respective row (`fonts.csv`), and tells you that the\n",
    "  rows with *Helvetica* font were fabricated.\n",
    "\n",
    "1. Load `fonts.csv` and merge the `font` column into your pandas dataframe.\n",
    "2. Considering only the kilometrage of the first motorcycle in each policy, calculate the number of rows with the Arial \n",
    "and the Helvetica font, respectively. Also, plot the distribution of baseline kilometers for rows with the Arial font \n",
    "and for rows with the Helvetica font.\n",
    "3. Similar to what was done in task 6. Plot the distribution of the last three digits for 1) the first motorcycle in \n",
    "each baseline contract (`baseline_motorcycle1`); and 2) the first motorcycle in each updated contract\n",
    " (`update_motorcycle1`).\n",
    "4. **Discuss:** Why do these analyses provide evidence that the rows with Helvetica font were fabricated?\n",
    "\n",
    "---"
   ]
  },
  {
   "cell_type": "markdown",
   "metadata": {},
   "source": [
    "* 1) Here we merge the `insurance` dataframe and `font` column as `insurance_font` by using `merge` function."
   ]
  },
  {
   "cell_type": "code",
   "execution_count": 30,
   "metadata": {},
   "outputs": [
    {
     "data": {
      "text/html": [
       "<div>\n",
       "<style scoped>\n",
       "    .dataframe tbody tr th:only-of-type {\n",
       "        vertical-align: middle;\n",
       "    }\n",
       "\n",
       "    .dataframe tbody tr th {\n",
       "        vertical-align: top;\n",
       "    }\n",
       "\n",
       "    .dataframe thead th {\n",
       "        text-align: right;\n",
       "    }\n",
       "</style>\n",
       "<table border=\"1\" class=\"dataframe\">\n",
       "  <thead>\n",
       "    <tr style=\"text-align: right;\">\n",
       "      <th></th>\n",
       "      <th>condition</th>\n",
       "      <th>id</th>\n",
       "      <th>baseline_motorcycle1</th>\n",
       "      <th>update_motorcycle1</th>\n",
       "      <th>baseline_motorcycle2</th>\n",
       "      <th>update_motorcycle2</th>\n",
       "      <th>baseline_motorcycle3</th>\n",
       "      <th>update_motorcycle3</th>\n",
       "      <th>baseline_motorcycle4</th>\n",
       "      <th>update_motorcycle4</th>\n",
       "      <th>motorcycle_count</th>\n",
       "      <th>baseline_average</th>\n",
       "      <th>update_average</th>\n",
       "      <th>diff_average</th>\n",
       "      <th>font</th>\n",
       "    </tr>\n",
       "  </thead>\n",
       "  <tbody>\n",
       "    <tr>\n",
       "      <th>0</th>\n",
       "      <td>Sign Top</td>\n",
       "      <td>1</td>\n",
       "      <td>896</td>\n",
       "      <td>39198</td>\n",
       "      <td>NaN</td>\n",
       "      <td>NaN</td>\n",
       "      <td>NaN</td>\n",
       "      <td>NaN</td>\n",
       "      <td>NaN</td>\n",
       "      <td>NaN</td>\n",
       "      <td>1</td>\n",
       "      <td>896.0</td>\n",
       "      <td>39198.0</td>\n",
       "      <td>38302.0</td>\n",
       "      <td>Helvetica</td>\n",
       "    </tr>\n",
       "    <tr>\n",
       "      <th>1</th>\n",
       "      <td>Sign Bottom</td>\n",
       "      <td>2</td>\n",
       "      <td>21396</td>\n",
       "      <td>63511</td>\n",
       "      <td>32659.0</td>\n",
       "      <td>47605.0</td>\n",
       "      <td>NaN</td>\n",
       "      <td>NaN</td>\n",
       "      <td>NaN</td>\n",
       "      <td>NaN</td>\n",
       "      <td>2</td>\n",
       "      <td>27027.5</td>\n",
       "      <td>55558.0</td>\n",
       "      <td>28530.5</td>\n",
       "      <td>Helvetica</td>\n",
       "    </tr>\n",
       "    <tr>\n",
       "      <th>2</th>\n",
       "      <td>Sign Bottom</td>\n",
       "      <td>3</td>\n",
       "      <td>21340</td>\n",
       "      <td>37460</td>\n",
       "      <td>44998.0</td>\n",
       "      <td>59002.0</td>\n",
       "      <td>NaN</td>\n",
       "      <td>NaN</td>\n",
       "      <td>NaN</td>\n",
       "      <td>NaN</td>\n",
       "      <td>2</td>\n",
       "      <td>33169.0</td>\n",
       "      <td>48231.0</td>\n",
       "      <td>15062.0</td>\n",
       "      <td>Helvetica</td>\n",
       "    </tr>\n",
       "    <tr>\n",
       "      <th>3</th>\n",
       "      <td>Sign Bottom</td>\n",
       "      <td>4</td>\n",
       "      <td>23912</td>\n",
       "      <td>59136</td>\n",
       "      <td>NaN</td>\n",
       "      <td>NaN</td>\n",
       "      <td>NaN</td>\n",
       "      <td>NaN</td>\n",
       "      <td>NaN</td>\n",
       "      <td>NaN</td>\n",
       "      <td>1</td>\n",
       "      <td>23912.0</td>\n",
       "      <td>59136.0</td>\n",
       "      <td>35224.0</td>\n",
       "      <td>Helvetica</td>\n",
       "    </tr>\n",
       "    <tr>\n",
       "      <th>4</th>\n",
       "      <td>Sign Bottom</td>\n",
       "      <td>5</td>\n",
       "      <td>16862</td>\n",
       "      <td>59292</td>\n",
       "      <td>NaN</td>\n",
       "      <td>NaN</td>\n",
       "      <td>NaN</td>\n",
       "      <td>NaN</td>\n",
       "      <td>NaN</td>\n",
       "      <td>NaN</td>\n",
       "      <td>1</td>\n",
       "      <td>16862.0</td>\n",
       "      <td>59292.0</td>\n",
       "      <td>42430.0</td>\n",
       "      <td>Arial</td>\n",
       "    </tr>\n",
       "  </tbody>\n",
       "</table>\n",
       "</div>"
      ],
      "text/plain": [
       "     condition  id  baseline_motorcycle1  update_motorcycle1  \\\n",
       "0     Sign Top   1                   896               39198   \n",
       "1  Sign Bottom   2                 21396               63511   \n",
       "2  Sign Bottom   3                 21340               37460   \n",
       "3  Sign Bottom   4                 23912               59136   \n",
       "4  Sign Bottom   5                 16862               59292   \n",
       "\n",
       "   baseline_motorcycle2  update_motorcycle2  baseline_motorcycle3  \\\n",
       "0                   NaN                 NaN                   NaN   \n",
       "1               32659.0             47605.0                   NaN   \n",
       "2               44998.0             59002.0                   NaN   \n",
       "3                   NaN                 NaN                   NaN   \n",
       "4                   NaN                 NaN                   NaN   \n",
       "\n",
       "   update_motorcycle3  baseline_motorcycle4  update_motorcycle4  \\\n",
       "0                 NaN                   NaN                 NaN   \n",
       "1                 NaN                   NaN                 NaN   \n",
       "2                 NaN                   NaN                 NaN   \n",
       "3                 NaN                   NaN                 NaN   \n",
       "4                 NaN                   NaN                 NaN   \n",
       "\n",
       "   motorcycle_count  baseline_average  update_average  diff_average       font  \n",
       "0                 1             896.0         39198.0       38302.0  Helvetica  \n",
       "1                 2           27027.5         55558.0       28530.5  Helvetica  \n",
       "2                 2           33169.0         48231.0       15062.0  Helvetica  \n",
       "3                 1           23912.0         59136.0       35224.0  Helvetica  \n",
       "4                 1           16862.0         59292.0       42430.0      Arial  "
      ]
     },
     "execution_count": 30,
     "metadata": {},
     "output_type": "execute_result"
    }
   ],
   "source": [
    "FONTS_DATASET = DATA_PATH + 'fonts.csv'\n",
    "\n",
    "fonts = pd.read_csv(FONTS_DATASET)\n",
    "insurance_font = pd.merge(insurance, fonts, on = 'id')\n",
    "insurance_font.head()"
   ]
  },
  {
   "cell_type": "markdown",
   "metadata": {},
   "source": [
    "* 2.a) Here we count the number of rows with Arial and Helvetica font respectively and find that they nearly have the same quantities."
   ]
  },
  {
   "cell_type": "code",
   "execution_count": 31,
   "metadata": {},
   "outputs": [
    {
     "data": {
      "text/plain": [
       "Arial        6744\n",
       "Helvetica    6742\n",
       "Name: font, dtype: int64"
      ]
     },
     "execution_count": 31,
     "metadata": {},
     "output_type": "execute_result"
    }
   ],
   "source": [
    "insurance_font['font'].value_counts()"
   ]
  },
  {
   "cell_type": "markdown",
   "metadata": {},
   "source": [
    "* 2.b) Here we sort out baseline kilometers of motorcycle1 for rows with the Arial font and for rows with the Helvetica font."
   ]
  },
  {
   "cell_type": "code",
   "execution_count": 32,
   "metadata": {},
   "outputs": [],
   "source": [
    "baseline_arial = insurance_font[insurance_font.font == 'Arial']['baseline_motorcycle1']\n",
    "baseline_helvetica = insurance_font[insurance_font.font == 'Helvetica']['baseline_motorcycle1']"
   ]
  },
  {
   "cell_type": "markdown",
   "metadata": {},
   "source": [
    "* Here we use histogram to plot the distribution of baseline kilometers with the Arial and with the Helvetica font respectively.<br>\n",
    "By comparing the two plots, we can find that these two fonts considering baseline kilometers share very similar distribution especially in low and high numbers of odometer kilometrage."
   ]
  },
  {
   "cell_type": "code",
   "execution_count": 33,
   "metadata": {},
   "outputs": [
    {
     "data": {
      "image/png": "[encoded data removed]",
      "text/plain": [
       "<Figure size 1152x288 with 2 Axes>"
      ]
     },
     "metadata": {
      "needs_background": "light"
     },
     "output_type": "display_data"
    }
   ],
   "source": [
    "fig, ax = plt.subplots(ncols = 2, figsize = (16, 4))\n",
    "\n",
    "sns.histplot(baseline_arial, color = 'g', ax = ax[0])\n",
    "ax[0].set_yscale('log')\n",
    "ax[0].set_title('Baseline kilometers with arial font')\n",
    "\n",
    "sns.histplot(baseline_helvetica, ax = ax[1])\n",
    "ax[1].set_yscale('log')\n",
    "ax[1].set_title('Baseline kilometers with helvetica font')\n",
    "plt.show()"
   ]
  },
  {
   "cell_type": "markdown",
   "metadata": {},
   "source": [
    "* 3) Here we select last three digits of odometer kilometrage in both every baseline and update contract respectively."
   ]
  },
  {
   "cell_type": "code",
   "execution_count": 34,
   "metadata": {},
   "outputs": [],
   "source": [
    "lastdigit_baseline = (insurance_font['baseline_motorcycle1'] % 1000)\n",
    "lastdigit_update = (insurance_font['update_motorcycle1'] % 1000)"
   ]
  },
  {
   "cell_type": "markdown",
   "metadata": {},
   "source": [
    "* Here we use histogram to plot the distribution of baseline and update kilometers with Arail and Helvetica font."
   ]
  },
  {
   "cell_type": "code",
   "execution_count": 35,
   "metadata": {},
   "outputs": [
    {
     "data": {
      "image/png": "[encoded data removed]",
      "text/plain": [
       "<Figure size 1152x576 with 4 Axes>"
      ]
     },
     "metadata": {
      "needs_background": "light"
     },
     "output_type": "display_data"
    }
   ],
   "source": [
    "fig, ax = plt.subplots(nrows = 2, ncols = 2, figsize = (16, 8))\n",
    "        \n",
    "sns.histplot(lastdigit_baseline[insurance_font.font == 'Arial'], bins = 200, color = 'g', label = 'Arial', ax = ax[0, 0])\n",
    "sns.histplot(lastdigit_baseline[insurance_font.font == 'Helvetica'], bins = 200, label = 'Helvetica', ax = ax[0, 1])\n",
    "ax[0, 0].set_title('Baseline kilometers with arial font')\n",
    "ax[0, 1].set_title('Baseline kilometers with helvetica font')\n",
    "\n",
    "\n",
    "sns.histplot(lastdigit_update[insurance_font.font == 'Arial'], bins = 200, color = 'g', label = 'Arial', ax = ax[1, 0])\n",
    "sns.histplot(lastdigit_update[insurance_font.font == 'Helvetica'], bins = 200, label = 'Helvetica', ax = ax[1, 1])\n",
    "ax[1, 0].set_title('Update kilometers with arial font')\n",
    "ax[1, 1].set_title('Update kilometers with helvetica font')\n",
    "\n",
    "\n",
    "for i in range(2):\n",
    "    for j in range(2):\n",
    "        ax[i, j].legend()\n",
    "        ax[i, j].set_yscale('log')\n",
    "        ax[i, j].set_ylim(1, 2000)\n",
    "        ax[i, j].set_xlabel('Last three digits of kilometrage')\n",
    "        \n",
    "fig.tight_layout()\n",
    "plt.show()"
   ]
  },
  {
   "cell_type": "markdown",
   "metadata": {},
   "source": [
    "* **Discussion:** In order to prove the fact that data written with Helvetica font was fabricated, we were suggested to implement one of the most common strategies for identifying counterfeit data - the last three digits distribution analysis. Assuming that the odometer kilometrages written with Arial font are real values provided by people to an insurance company, we can suppose what distribution the last three digits of these readings would have. For the odometer readings that were really reported by the customers to the insurance company, some policy holders tended to lie and they could do it by reporting a smaller number of odometer kilometrage rounding it to the closest threshold of a particular insurance tariff. We can see peaks next to these round values in the “Baseline kilometers with arial font” plot.  At the same time, in order to forge the kilometers which appear to be real, the customers that tended to lie could choose to write numbers considered as “the most random numbers” - the numbers with different digits at the end rather than rounded ones. Since humans are imperfect randomizers, and they are not able to generate random numbers well, the resulting data would be different from data produced by a truly random process. Thus, following the same logic, the uniform distribution of the last three digits for Helvetica font in both baseline and updated cases is suspicious for us. Baseline odometer kilometrages with Arial and with Helvetica font data follow almost the same distributions but the distributions of the last three digits between Arial and Helvetica font are different, therefore, we make our third hypothesis that the values in Helvetica rows were generated by a computer using a random numbers generator. Hence, Helvetica odometer kilometrages couldn’t really be provided by people."
   ]
  },
  {
   "cell_type": "markdown",
   "metadata": {},
   "source": [
    "### Task 8 — 15pts\n",
    "\n",
    "You've had enough! You decide to write an email to your PI (principal investigator, also known as \"your boss\") reporting\n",
    " the oddities you have observed in the data. Write a (brief) text (in markdown) of up to 300 words. Your text should:\n",
    "\n",
    "- Use the analyses you did to make a convincing case that the data has been tampered with. \n",
    "- Grounded in your analyses, provide a plausible hypothesis about how the data has been tampered with.\n",
    "- Discuss whether the data leads to the conclusion that signing at the top decreases dishonesty.\n",
    "\n",
    "Structure your text into three bullets, analogous to the ones above.\n",
    "\n",
    "You can reference images present in the notebook by indicating a task (e.g., image plotted in Task 3.3) or a cell \n",
    "number.\n",
    "\n",
    "Note that you do not need to conduct any additional analysis to write this text. If you do, the code should be at the \n",
    "end of this notebook, i.e., after your answer.\n",
    "\n",
    "---\n",
    "\n",
    "**Hint:** The data has been tampered with in more than one way."
   ]
  },
  {
   "cell_type": "markdown",
   "metadata": {},
   "source": [
    "Dear Principal Investigator,\n",
    "\n",
    "\n",
    "* According to the conducted analyses, we have explored suspicious features of the data. **Firstly**, the baseline contracts have significant difference in average distribution for signed at the top and bottom subsets (see Task 4.5), whereas they should follow the same distribution theoretically, because no experiment was held that time. **Secondly**, the difference between updated and baseline contracts should follow a normal distribution, whereas in the plot for Task 5.2 it is distributed uniformly. **Thirdly**, we proved that Helvetica rows were fabricated, because the distribution of the last three digits for counterfeit and non-counterfeit data differ. So, we can state that the data has been tampered with.\n",
    "\n",
    "\n",
    "* We make four hypotheses on how the data has been tampered with. **First hypothesis**: the forms with signing on top/bottom were distributed based on the previous odometer kilometrage. **Second hypothesis**: the updated kilometrage data was created from baseline by adding a uniformly distributed random variable. **Third hypothesis**: the helvetica fabricated values were created by capturing the distribution of arial font data and then generating random numbers by a computer according to this distribution. **Fourth hypothesis**: different quantities and values of outliers were added to the baseline and updated kilometrages of four motorcycles data in order to obtain nearly the same mean value.\n",
    "\n",
    "\n",
    "* The data doesn’t lead to the fact that signing on top decreases dishonesty. Although customers who signed at the bottom of the contract reported larger numbers than those who signed at the beginning, we can’t come to the conclusion that signing on top decreases dishonesty. Also, we should bear in mind that there shouldn’t be a significant difference between sign at the top and bottom conditions for baseline contracts, therefore, analyzing probably corrupted updated contracts can’t lead to this inference.\n",
    "\n",
    "\n",
    "Kind regards,\n",
    "\n",
    "ADA students"
   ]
  }
 ],
 "metadata": {
  "kernelspec": {
   "display_name": "Python 3 (ipykernel)",
   "language": "python",
   "name": "python3"
  },
  "language_info": {
   "codemirror_mode": {
    "name": "ipython",
    "version": 3
   },
   "file_extension": ".py",
   "mimetype": "text/x-python",
   "name": "python",
   "nbconvert_exporter": "python",
   "pygments_lexer": "ipython3",
   "version": "3.8.12"
  },
  "pycharm": {
   "stem_cell": {
    "cell_type": "raw",
    "metadata": {
     "collapsed": false
    },
    "source": []
   }
  }
 },
 "nbformat": 4,
 "nbformat_minor": 4
}
